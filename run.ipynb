{
 "cells": [
  {
   "cell_type": "code",
   "execution_count": 1,
   "metadata": {},
   "outputs": [],
   "source": [
    "from src.candidate_generator import CandidateGenerator\n",
    "from src.candidate_selector import CandidateSelector\n",
    "from src.llm_oracle import XiYanSQLOracle\n",
    "from src.MetaSchema import MetaSchema\n",
    "from MSchema.m_schema import MSchema\n",
    "from MSchema.schema_engine import SchemaEngine\n",
    "from sqlalchemy import create_engine\n",
    "import json\n",
    "import os"
   ]
  },
  {
   "cell_type": "code",
   "execution_count": 2,
   "metadata": {},
   "outputs": [
    {
     "data": {
      "application/vnd.jupyter.widget-view+json": {
       "model_id": "22502310acf24e8f9b86e9a4c7149594",
       "version_major": 2,
       "version_minor": 0
      },
      "text/plain": [
       "Loading checkpoint shards:   0%|          | 0/14 [00:00<?, ?it/s]"
      ]
     },
     "metadata": {},
     "output_type": "display_data"
    },
    {
     "name": "stderr",
     "output_type": "stream",
     "text": [
      "Some parameters are on the meta device because they were offloaded to the cpu.\n"
     ]
    }
   ],
   "source": [
    "oracle = XiYanSQLOracle()\n",
    "XiYan_generator = CandidateGenerator(oracle,prompt_path=\"template/generate_candidate_XiYan.txt\")"
   ]
  },
  {
   "cell_type": "code",
   "execution_count": 3,
   "metadata": {},
   "outputs": [],
   "source": [
    "schemas = {}\n",
    "for db_name in os.listdir(\"dev/dev_databases\"):\n",
    "    if(db_name.startswith(\".\")):\n",
    "        continue\n",
    "    db_path =  f'./dev/dev_databases/{db_name}/{db_name}.sqlite'\n",
    "    abs_path = os.path.abspath(db_path)\n",
    "    assert os.path.exists(abs_path)\n",
    "    db_engine = create_engine(f'sqlite:///{abs_path}')\n",
    "    schema_engine = SchemaEngine(engine=db_engine, db_name=db_name)\n",
    "    mschema = schema_engine.mschema\n",
    "    schemas[db_name] = mschema"
   ]
  },
  {
   "cell_type": "code",
   "execution_count": 4,
   "metadata": {},
   "outputs": [],
   "source": [
    "with open(\"dev/dev.json\") as f:\n",
    "    questions = json.load(f)"
   ]
  },
  {
   "cell_type": "code",
   "execution_count": 6,
   "metadata": {},
   "outputs": [],
   "source": [
    "all_json_r = []"
   ]
  },
  {
   "cell_type": "code",
   "execution_count": null,
   "metadata": {},
   "outputs": [],
   "source": [
    "all_XiYan_r = []\n",
    "for question in questions:\n",
    "    schema = schemas[question[\"db_id\"]].to_mschema()\n",
    "    q = question[\"question\"]\n",
    "    h = question[\"evidence\"]\n",
    "    XiYan_r = XiYan_generator.generate_candidates(q,schema,h)\n",
    "    all_XiYan_r.append(XiYan_r)\n",
    "    break"
   ]
  },
  {
   "cell_type": "code",
   "execution_count": null,
   "metadata": {},
   "outputs": [],
   "source": []
  }
 ],
 "metadata": {
  "kernelspec": {
   "display_name": "Python 3 (ipykernel)",
   "language": "python",
   "name": "python3"
  },
  "language_info": {
   "codemirror_mode": {
    "name": "ipython",
    "version": 3
   },
   "file_extension": ".py",
   "mimetype": "text/x-python",
   "name": "python",
   "nbconvert_exporter": "python",
   "pygments_lexer": "ipython3",
   "version": "3.10.13"
  }
 },
 "nbformat": 4,
 "nbformat_minor": 4
}
